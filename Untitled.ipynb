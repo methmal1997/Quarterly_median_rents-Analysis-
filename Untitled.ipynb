{
 "cells": [
  {
   "cell_type": "markdown",
   "id": "fc11a7a0",
   "metadata": {},
   "source": [
    "# Import libaries"
   ]
  },
  {
   "cell_type": "code",
   "execution_count": null,
   "id": "d44fd04c",
   "metadata": {
    "pycharm": {
     "is_executing": true
    }
   },
   "outputs": [],
   "source": [
    "import numpy as np\n",
    "import pandas as pd\n",
    "import matplotlib.pyplot as pd\n",
    "import seaborn as sns"
   ]
  },
  {
   "cell_type": "markdown",
   "id": "9d4dec98",
   "metadata": {},
   "source": [
    "# Get differnt sheet to differnt sheets"
   ]
  },
  {
   "cell_type": "code",
   "execution_count": null,
   "id": "07b1a28b",
   "metadata": {
    "pycharm": {
     "is_executing": true
    }
   },
   "outputs": [],
   "source": [
    "df1 = pd.read_excel('C:\\\\Users\\\\ASUS\\\\Downloads\\\\dataset.xlsx', sheet_name = '1br flat', header=[1,2], index_col=[0, 1])\n",
    "df2 = pd.read_excel('C:\\\\Users\\\\ASUS\\\\Downloads\\\\dataset.xlsx', sheet_name = '2br Flat', header=[1,2], index_col=[0, 1])\n",
    "df3 = pd.read_excel('C:\\\\Users\\\\ASUS\\\\Downloads\\\\dataset.xlsx', sheet_name = '3br Flat', header=[1,2], index_col=[0, 1])\n",
    "df4 = pd.read_excel('C:\\\\Users\\\\ASUS\\\\Downloads\\\\dataset.xlsx', sheet_name = '2br House', header=[1,2], index_col=[0, 1])\n",
    "df5 = pd.read_excel('C:\\\\Users\\\\ASUS\\\\Downloads\\\\dataset.xlsx', sheet_name = '3br House', header=[1,2], index_col=[0, 1])\n",
    "df6 = pd.read_excel('C:\\\\Users\\\\ASUS\\\\Downloads\\\\dataset.xlsx', sheet_name = '4br House', header=[1,2], index_col=[0, 1])\n",
    "df7 = pd.read_excel('C:\\\\Users\\\\ASUS\\\\Downloads\\\\dataset.xlsx', sheet_name ='All Properties', header=[1,2], index_col=[0, 1])\n"
   ]
  },
  {
   "cell_type": "markdown",
   "id": "b7114a53",
   "metadata": {},
   "source": [
    "# Create DF from all small DF"
   ]
  },
  {
   "cell_type": "code",
   "execution_count": null,
   "id": "25d88695",
   "metadata": {
    "scrolled": false
   },
   "outputs": [],
   "source": [
    "frames = [df1,df2,df3,df4,df4,df5,df6]\n",
    "dfn = pd.concat(frames, keys=['1br flat',\n",
    " '2br Flat',\n",
    " '3br Flat',\n",
    " '2br House',\n",
    " '3br House',\n",
    " '4br House',\n",
    " 'All Properties'])\n",
    "\n",
    "dfn"
   ]
  },
  {
   "cell_type": "markdown",
   "id": "8c53152a",
   "metadata": {},
   "source": [
    "# Replase differnt signs to common NaN"
   ]
  },
  {
   "cell_type": "code",
   "execution_count": null,
   "id": "ba9b495d",
   "metadata": {
    "scrolled": true
   },
   "outputs": [],
   "source": [
    "dfn0=dfn.replace('-', np.NaN)\n",
    "dfn1=dfn0.replace('.',np.NaN)"
   ]
  },
  {
   "cell_type": "code",
   "execution_count": null,
   "id": "f176975e",
   "metadata": {},
   "outputs": [],
   "source": [
    "dfn1.shape"
   ]
  },
  {
   "cell_type": "markdown",
   "id": "15c19bae",
   "metadata": {},
   "source": [
    "# Get Transpose of that DF"
   ]
  },
  {
   "cell_type": "code",
   "execution_count": null,
   "id": "1db8f8ea",
   "metadata": {},
   "outputs": [],
   "source": [
    "dfh=dfn1.transpose()\n",
    "dfh"
   ]
  },
  {
   "cell_type": "code",
   "execution_count": null,
   "id": "86490dfb",
   "metadata": {},
   "outputs": [],
   "source": [
    "dfh.shape"
   ]
  },
  {
   "cell_type": "markdown",
   "id": "92e87436",
   "metadata": {},
   "source": [
    "no colomns all colomns missed"
   ]
  },
  {
   "cell_type": "code",
   "execution_count": null,
   "id": "6849e017",
   "metadata": {},
   "outputs": [],
   "source": [
    "dfh.isnull().all().sum()"
   ]
  },
  {
   "cell_type": "markdown",
   "id": "be1235a4",
   "metadata": {},
   "source": [
    "No of colomns include missing values"
   ]
  },
  {
   "cell_type": "code",
   "execution_count": null,
   "id": "8b30201b",
   "metadata": {},
   "outputs": [],
   "source": [
    "dfh.isnull().any().sum()"
   ]
  },
  {
   "cell_type": "markdown",
   "id": "0fe0be11",
   "metadata": {},
   "source": [
    "# Drop rows which all are null"
   ]
  },
  {
   "cell_type": "code",
   "execution_count": null,
   "id": "9e44043f",
   "metadata": {},
   "outputs": [],
   "source": [
    "df=dfn1.dropna(how='all')\n",
    "df.isnull().all(axis=1).sum()\n",
    "dfh=df.transpose()"
   ]
  },
  {
   "cell_type": "markdown",
   "id": "5cd126d3",
   "metadata": {},
   "source": [
    "# checking null after dropping null colomn and row wise"
   ]
  },
  {
   "cell_type": "code",
   "execution_count": null,
   "id": "66e2132a",
   "metadata": {},
   "outputs": [],
   "source": [
    "dfh.isnull().all(axis=1).sum()"
   ]
  },
  {
   "cell_type": "code",
   "execution_count": null,
   "id": "0383f4be",
   "metadata": {},
   "outputs": [],
   "source": [
    "dfh.isnull().all().sum()"
   ]
  },
  {
   "cell_type": "markdown",
   "id": "42573a6d",
   "metadata": {},
   "source": [
    "No of colomns has missing value after drop some"
   ]
  },
  {
   "cell_type": "code",
   "execution_count": null,
   "id": "91120842",
   "metadata": {
    "scrolled": true
   },
   "outputs": [],
   "source": [
    "dfh.isnull().any().sum()"
   ]
  },
  {
   "cell_type": "markdown",
   "id": "e7c1b77d",
   "metadata": {},
   "source": [
    "No of cell that has missing vaues after droppng"
   ]
  },
  {
   "cell_type": "code",
   "execution_count": null,
   "id": "2758faf0",
   "metadata": {},
   "outputs": [],
   "source": [
    "dfh.isnull().sum().sum()"
   ]
  },
  {
   "cell_type": "markdown",
   "id": "70307309",
   "metadata": {},
   "source": [
    "# Check shape after drop colomns which had all NULL"
   ]
  },
  {
   "cell_type": "code",
   "execution_count": null,
   "id": "06d1c478",
   "metadata": {},
   "outputs": [],
   "source": [
    "dfh.shape"
   ]
  },
  {
   "cell_type": "markdown",
   "id": "a6c5a435",
   "metadata": {},
   "source": [
    "# Data types"
   ]
  },
  {
   "cell_type": "code",
   "execution_count": null,
   "id": "a65a75f9",
   "metadata": {},
   "outputs": [],
   "source": [
    "dfh.dtypes.values"
   ]
  },
  {
   "cell_type": "markdown",
   "id": "95b017ed",
   "metadata": {},
   "source": [
    "# Data discription"
   ]
  },
  {
   "cell_type": "code",
   "execution_count": null,
   "id": "733d31d6",
   "metadata": {},
   "outputs": [],
   "source": [
    "dfh.describe()"
   ]
  },
  {
   "cell_type": "markdown",
   "id": "ed9b23d0",
   "metadata": {},
   "source": [
    "# duplicated?"
   ]
  },
  {
   "cell_type": "code",
   "execution_count": null,
   "id": "0fdb0312",
   "metadata": {},
   "outputs": [],
   "source": [
    "df.duplicated(subset=None).sum()"
   ]
  },
  {
   "cell_type": "code",
   "execution_count": null,
   "id": "a81b3670",
   "metadata": {},
   "outputs": [],
   "source": [
    "dfh.duplicated().sum()"
   ]
  },
  {
   "cell_type": "code",
   "execution_count": null,
   "id": "22a77946",
   "metadata": {},
   "outputs": [],
   "source": [
    "col=df.columns.values\n",
    "col"
   ]
  },
  {
   "cell_type": "code",
   "execution_count": null,
   "id": "72a3df4c",
   "metadata": {},
   "outputs": [],
   "source": [
    "duplicate = df[df.duplicated(subset=col)]\n",
    "  \n",
    "print(\"Duplicate Rows :\") \n",
    "duplicate"
   ]
  },
  {
   "cell_type": "markdown",
   "id": "bb067499",
   "metadata": {},
   "source": [
    "# drop duplicates"
   ]
  },
  {
   "cell_type": "code",
   "execution_count": null,
   "id": "49ca99c7",
   "metadata": {},
   "outputs": [],
   "source": [
    "df.drop_duplicates(inplace=True)\n",
    "df.duplicated().sum()"
   ]
  },
  {
   "cell_type": "code",
   "execution_count": null,
   "id": "8fbfb5f3",
   "metadata": {},
   "outputs": [],
   "source": [
    "dfh=df.transpose()"
   ]
  },
  {
   "cell_type": "markdown",
   "id": "a427d621",
   "metadata": {},
   "source": [
    "# check after drop duplicates"
   ]
  },
  {
   "cell_type": "code",
   "execution_count": null,
   "id": "a3b118c9",
   "metadata": {},
   "outputs": [],
   "source": [
    "df.duplicated().sum()"
   ]
  },
  {
   "cell_type": "code",
   "execution_count": null,
   "id": "1d1de318",
   "metadata": {},
   "outputs": [],
   "source": [
    "dfp1=df7.replace('-', np.NaN)\n",
    "dfp2=dfp1.replace('.', np.NaN)"
   ]
  },
  {
   "cell_type": "code",
   "execution_count": null,
   "id": "2773946d",
   "metadata": {},
   "outputs": [],
   "source": [
    "dfp2.isnull().all().sum()"
   ]
  },
  {
   "cell_type": "code",
   "execution_count": null,
   "id": "7c1e9e05",
   "metadata": {},
   "outputs": [],
   "source": [
    "dfp2.duplicated().sum()"
   ]
  },
  {
   "cell_type": "code",
   "execution_count": null,
   "id": "34e9e8ad",
   "metadata": {},
   "outputs": [],
   "source": [
    "dfp3=dfp2.drop_duplicates()"
   ]
  },
  {
   "cell_type": "code",
   "execution_count": null,
   "id": "889bebce",
   "metadata": {},
   "outputs": [],
   "source": [
    "dfp3.tail(10)"
   ]
  },
  {
   "cell_type": "code",
   "execution_count": null,
   "id": "a5a4b970",
   "metadata": {},
   "outputs": [],
   "source": [
    "dfp4.shape"
   ]
  },
  {
   "cell_type": "code",
   "execution_count": null,
   "id": "efdb66e1",
   "metadata": {},
   "outputs": [],
   "source": [
    "dfp4.columns"
   ]
  },
  {
   "cell_type": "code",
   "execution_count": null,
   "id": "0794b035",
   "metadata": {},
   "outputs": [],
   "source": [
    "dfpm1=dfp4.filter(like='Median').transpose()\n",
    "dfpm=dfpm1.filter(like='Group')\n",
    "dfpm"
   ]
  },
  {
   "cell_type": "code",
   "execution_count": null,
   "id": "0dcd14a7",
   "metadata": {},
   "outputs": [],
   "source": [
    "dfpm.describe()"
   ]
  },
  {
   "cell_type": "code",
   "execution_count": null,
   "id": "389bf3b3",
   "metadata": {},
   "outputs": [],
   "source": [
    "dfpc1=dfp4.filter(like='Count')\n",
    "dfpc=dfpc1.transpose().filter(like='Group')\n",
    "dfpc"
   ]
  },
  {
   "cell_type": "code",
   "execution_count": null,
   "id": "322254bd",
   "metadata": {},
   "outputs": [],
   "source": [
    "dfpm.index.name = 'Year'\n",
    "dfpm.reset_index(inplace=True)"
   ]
  },
  {
   "cell_type": "code",
   "execution_count": null,
   "id": "e99001af",
   "metadata": {},
   "outputs": [],
   "source": [
    "# dfpm.drop([1],\n",
    "#   axis='columns', inplace=True)\n",
    "# dfpm\n"
   ]
  },
  {
   "cell_type": "code",
   "execution_count": null,
   "id": "bf55ae4f",
   "metadata": {},
   "outputs": [],
   "source": []
  },
  {
   "cell_type": "code",
   "execution_count": null,
   "id": "9c0706cd",
   "metadata": {},
   "outputs": [],
   "source": []
  },
  {
   "cell_type": "code",
   "execution_count": null,
   "id": "54cececb",
   "metadata": {},
   "outputs": [],
   "source": []
  },
  {
   "cell_type": "code",
   "execution_count": null,
   "id": "90625892",
   "metadata": {},
   "outputs": [],
   "source": []
  },
  {
   "cell_type": "code",
   "execution_count": null,
   "id": "93efa967",
   "metadata": {},
   "outputs": [],
   "source": []
  },
  {
   "cell_type": "code",
   "execution_count": null,
   "id": "8a026387",
   "metadata": {},
   "outputs": [],
   "source": []
  },
  {
   "cell_type": "code",
   "execution_count": null,
   "id": "e6746cba",
   "metadata": {},
   "outputs": [],
   "source": []
  },
  {
   "cell_type": "code",
   "execution_count": null,
   "id": "c4795faa",
   "metadata": {},
   "outputs": [],
   "source": []
  },
  {
   "cell_type": "code",
   "execution_count": null,
   "id": "1a0b2e88",
   "metadata": {},
   "outputs": [],
   "source": []
  },
  {
   "cell_type": "code",
   "execution_count": null,
   "id": "95038c7b",
   "metadata": {},
   "outputs": [],
   "source": []
  },
  {
   "cell_type": "code",
   "execution_count": null,
   "id": "34caab03",
   "metadata": {},
   "outputs": [],
   "source": []
  },
  {
   "cell_type": "code",
   "execution_count": null,
   "id": "c493f158",
   "metadata": {},
   "outputs": [],
   "source": []
  },
  {
   "cell_type": "code",
   "execution_count": null,
   "id": "2d5b2025",
   "metadata": {},
   "outputs": [],
   "source": []
  },
  {
   "cell_type": "code",
   "execution_count": null,
   "id": "dda51081",
   "metadata": {},
   "outputs": [],
   "source": []
  }
 ],
 "metadata": {
  "kernelspec": {
   "display_name": "PyCharm (Quarterly_median_rents-Analysis-)",
   "language": "python",
   "name": "pycharm-76ff222c"
  },
  "language_info": {
   "codemirror_mode": {
    "name": "ipython",
    "version": 3
   },
   "file_extension": ".py",
   "mimetype": "text/x-python",
   "name": "python",
   "nbconvert_exporter": "python",
   "pygments_lexer": "ipython3",
   "version": "3.8.1"
  }
 },
 "nbformat": 4,
 "nbformat_minor": 5
}